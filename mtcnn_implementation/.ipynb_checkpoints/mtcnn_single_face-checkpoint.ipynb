{
 "cells": [
  {
   "cell_type": "code",
   "execution_count": 1,
   "id": "f27ce388",
   "metadata": {},
   "outputs": [],
   "source": [
    "# pip install mtcnn\n"
   ]
  },
  {
   "cell_type": "markdown",
   "id": "1ae29cf7",
   "metadata": {},
   "source": [
    "# Detecting Single Face"
   ]
  },
  {
   "cell_type": "code",
   "execution_count": 1,
   "id": "45780f23",
   "metadata": {},
   "outputs": [
    {
     "name": "stdout",
     "output_type": "stream",
     "text": [
      "1/1 [==============================] - 0s 262ms/step\n",
      "1/1 [==============================] - 0s 162ms/step\n",
      "1/1 [==============================] - 0s 36ms/step\n",
      "1/1 [==============================] - 0s 40ms/step\n",
      "1/1 [==============================] - 0s 32ms/step\n",
      "1/1 [==============================] - 0s 52ms/step\n",
      "1/1 [==============================] - 0s 43ms/step\n",
      "1/1 [==============================] - 0s 31ms/step\n",
      "2/2 [==============================] - 0s 4ms/step\n",
      "1/1 [==============================] - 0s 289ms/step\n",
      "[{'box': [83, 75, 88, 112], 'confidence': 0.9948487281799316, 'keypoints': {'left_eye': (100, 127), 'right_eye': (137, 113), 'nose': (118, 145), 'mouth_left': (115, 165), 'mouth_right': (148, 153)}}]\n"
     ]
    }
   ],
   "source": [
    "import tensorflow as tf\n",
    "\n",
    "from mtcnn import MTCNN\n",
    "import cv2\n",
    "\n",
    "\n",
    "\n",
    "detector=MTCNN()\n",
    "\n",
    "img=cv2.imread('images/yumna.jpg')\n",
    "\n",
    "output=detector.detect_faces(img)\n",
    "print(output)"
   ]
  },
  {
   "cell_type": "code",
   "execution_count": 2,
   "id": "8f6c4c39",
   "metadata": {},
   "outputs": [
    {
     "data": {
      "text/plain": [
       "-1"
      ]
     },
     "execution_count": 2,
     "metadata": {},
     "output_type": "execute_result"
    }
   ],
   "source": [
    "cv2.imshow(\"window\",img)\n",
    "\n",
    "cv2.waitKey(0)"
   ]
  },
  {
   "cell_type": "code",
   "execution_count": 3,
   "id": "2da68d60",
   "metadata": {},
   "outputs": [],
   "source": [
    "x,y,width,height=output[0]['box']"
   ]
  },
  {
   "cell_type": "code",
   "execution_count": 4,
   "id": "8d5a75a3",
   "metadata": {},
   "outputs": [
    {
     "data": {
      "text/plain": [
       "array([[[ 40,  52,  70],\n",
       "        [ 39,  51,  69],\n",
       "        [ 39,  51,  69],\n",
       "        ...,\n",
       "        [ 95, 106, 126],\n",
       "        [ 96, 107, 127],\n",
       "        [ 98, 109, 129]],\n",
       "\n",
       "       [[ 39,  51,  69],\n",
       "        [ 39,  51,  69],\n",
       "        [ 39,  51,  69],\n",
       "        ...,\n",
       "        [ 94, 105, 125],\n",
       "        [ 96, 107, 127],\n",
       "        [ 97, 108, 128]],\n",
       "\n",
       "       [[ 39,  50,  70],\n",
       "        [ 38,  49,  69],\n",
       "        [ 38,  49,  69],\n",
       "        ...,\n",
       "        [ 93, 104, 124],\n",
       "        [ 95, 106, 126],\n",
       "        [ 96, 107, 127]],\n",
       "\n",
       "       ...,\n",
       "\n",
       "       [[  4,  11,  20],\n",
       "        [  9,  16,  25],\n",
       "        [ 13,  20,  29],\n",
       "        ...,\n",
       "        [ 83,  75,  76],\n",
       "        [ 81,  73,  74],\n",
       "        [ 83,  75,  76]],\n",
       "\n",
       "       [[  6,  12,  19],\n",
       "        [  7,  13,  20],\n",
       "        [  8,  14,  21],\n",
       "        ...,\n",
       "        [ 85,  77,  78],\n",
       "        [ 84,  76,  77],\n",
       "        [ 88,  80,  81]],\n",
       "\n",
       "       [[ 19,  25,  30],\n",
       "        [ 15,  21,  26],\n",
       "        [  7,  13,  18],\n",
       "        ...,\n",
       "        [ 91,  83,  84],\n",
       "        [ 91,  83,  84],\n",
       "        [ 96,  88,  89]]], dtype=uint8)"
      ]
     },
     "execution_count": 4,
     "metadata": {},
     "output_type": "execute_result"
    }
   ],
   "source": [
    "cv2.rectangle(img,pt1=(x,y),pt2=(x+width,y+height),color=(255,0,0),thickness=3)"
   ]
  },
  {
   "cell_type": "code",
   "execution_count": 5,
   "id": "06e31403",
   "metadata": {},
   "outputs": [
    {
     "data": {
      "text/plain": [
       "-1"
      ]
     },
     "execution_count": 5,
     "metadata": {},
     "output_type": "execute_result"
    }
   ],
   "source": [
    "cv2.imshow(\"window\",img)\n",
    "\n",
    "cv2.waitKey(0)"
   ]
  },
  {
   "cell_type": "markdown",
   "id": "6ffc5e41",
   "metadata": {},
   "source": [
    "### Detecting facial Landmarks-left eye ,right-eye,nose,left-lip-corner,right-lip-corner"
   ]
  },
  {
   "cell_type": "code",
   "execution_count": 6,
   "id": "8a69a369",
   "metadata": {},
   "outputs": [
    {
     "name": "stdout",
     "output_type": "stream",
     "text": [
      "1/1 [==============================] - 0s 276ms/step\n",
      "WARNING:tensorflow:5 out of the last 12 calls to <function Model.make_predict_function.<locals>.predict_function at 0x000001DEE4356520> triggered tf.function retracing. Tracing is expensive and the excessive number of tracings could be due to (1) creating @tf.function repeatedly in a loop, (2) passing tensors with different shapes, (3) passing Python objects instead of tensors. For (1), please define your @tf.function outside of the loop. For (2), @tf.function has reduce_retracing=True option that can avoid unnecessary retracing. For (3), please refer to https://www.tensorflow.org/guide/function#controlling_retracing and https://www.tensorflow.org/api_docs/python/tf/function for  more details.\n",
      "1/1 [==============================] - 0s 205ms/step\n",
      "1/1 [==============================] - 0s 64ms/step\n",
      "1/1 [==============================] - 0s 41ms/step\n",
      "1/1 [==============================] - 0s 36ms/step\n",
      "1/1 [==============================] - 0s 51ms/step\n",
      "1/1 [==============================] - 0s 53ms/step\n",
      "1/1 [==============================] - 0s 42ms/step\n",
      "WARNING:tensorflow:5 out of the last 12 calls to <function Model.make_predict_function.<locals>.predict_function at 0x000001DEE6F88C20> triggered tf.function retracing. Tracing is expensive and the excessive number of tracings could be due to (1) creating @tf.function repeatedly in a loop, (2) passing tensors with different shapes, (3) passing Python objects instead of tensors. For (1), please define your @tf.function outside of the loop. For (2), @tf.function has reduce_retracing=True option that can avoid unnecessary retracing. For (3), please refer to https://www.tensorflow.org/guide/function#controlling_retracing and https://www.tensorflow.org/api_docs/python/tf/function for  more details.\n",
      "2/2 [==============================] - 0s 6ms/step\n",
      "1/1 [==============================] - 0s 333ms/step\n",
      "[{'box': [83, 75, 88, 112], 'confidence': 0.9948487281799316, 'keypoints': {'left_eye': (100, 127), 'right_eye': (137, 113), 'nose': (118, 145), 'mouth_left': (115, 165), 'mouth_right': (148, 153)}}]\n"
     ]
    }
   ],
   "source": [
    "left_eyeX,left_eyeY=output[0]['keypoints']['left_eye']"
   ]
  },
  {
   "cell_type": "code",
   "execution_count": null,
   "id": "ecc0d7f3",
   "metadata": {},
   "outputs": [],
   "source": []
  }
 ],
 "metadata": {
  "kernelspec": {
   "display_name": "Python 3 (ipykernel)",
   "language": "python",
   "name": "python3"
  },
  "language_info": {
   "codemirror_mode": {
    "name": "ipython",
    "version": 3
   },
   "file_extension": ".py",
   "mimetype": "text/x-python",
   "name": "python",
   "nbconvert_exporter": "python",
   "pygments_lexer": "ipython3",
   "version": "3.11.3"
  }
 },
 "nbformat": 4,
 "nbformat_minor": 5
}
