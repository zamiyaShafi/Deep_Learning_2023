{
 "cells": [
  {
   "cell_type": "code",
   "execution_count": 1,
   "id": "bb67c4b1",
   "metadata": {},
   "outputs": [],
   "source": [
    "# pip install mtcnn\n"
   ]
  },
  {
   "cell_type": "markdown",
   "id": "2b39391f",
   "metadata": {},
   "source": [
    "# Detecting Single Face"
   ]
  },
  {
   "cell_type": "code",
   "execution_count": 2,
   "id": "0d9f71c5",
   "metadata": {},
   "outputs": [
    {
     "name": "stdout",
     "output_type": "stream",
     "text": [
      "1/1 [==============================] - 0s 297ms/step\n",
      "1/1 [==============================] - 0s 181ms/step\n",
      "1/1 [==============================] - 0s 36ms/step\n",
      "1/1 [==============================] - 0s 37ms/step\n",
      "1/1 [==============================] - 0s 31ms/step\n",
      "1/1 [==============================] - 0s 24ms/step\n",
      "1/1 [==============================] - 0s 29ms/step\n",
      "1/1 [==============================] - 0s 26ms/step\n",
      "2/2 [==============================] - 0s 4ms/step\n",
      "1/1 [==============================] - 0s 235ms/step\n",
      "[{'box': [83, 75, 88, 112], 'confidence': 0.9948487281799316, 'keypoints': {'left_eye': (100, 127), 'right_eye': (137, 113), 'nose': (118, 145), 'mouth_left': (115, 165), 'mouth_right': (148, 153)}}]\n"
     ]
    }
   ],
   "source": [
    "import tensorflow as tf\n",
    "\n",
    "from mtcnn import MTCNN\n",
    "import cv2\n",
    "\n",
    "\n",
    "\n",
    "detector=MTCNN()\n",
    "\n",
    "img=cv2.imread('images/yumna.jpg')\n",
    "\n",
    "output=detector.detect_faces(img)\n",
    "print(output)"
   ]
  },
  {
   "cell_type": "code",
   "execution_count": 3,
   "id": "2411de69",
   "metadata": {},
   "outputs": [
    {
     "data": {
      "text/plain": [
       "-1"
      ]
     },
     "execution_count": 3,
     "metadata": {},
     "output_type": "execute_result"
    }
   ],
   "source": [
    "cv2.imshow(\"window\",img)\n",
    "\n",
    "cv2.waitKey(0)"
   ]
  },
  {
   "cell_type": "code",
   "execution_count": 4,
   "id": "3fe8b6da",
   "metadata": {},
   "outputs": [],
   "source": [
    "x,y,width,height=output[0]['box']"
   ]
  },
  {
   "cell_type": "code",
   "execution_count": 5,
   "id": "b2b81b88",
   "metadata": {},
   "outputs": [
    {
     "data": {
      "text/plain": [
       "array([[[ 40,  52,  70],\n",
       "        [ 39,  51,  69],\n",
       "        [ 39,  51,  69],\n",
       "        ...,\n",
       "        [ 95, 106, 126],\n",
       "        [ 96, 107, 127],\n",
       "        [ 98, 109, 129]],\n",
       "\n",
       "       [[ 39,  51,  69],\n",
       "        [ 39,  51,  69],\n",
       "        [ 39,  51,  69],\n",
       "        ...,\n",
       "        [ 94, 105, 125],\n",
       "        [ 96, 107, 127],\n",
       "        [ 97, 108, 128]],\n",
       "\n",
       "       [[ 39,  50,  70],\n",
       "        [ 38,  49,  69],\n",
       "        [ 38,  49,  69],\n",
       "        ...,\n",
       "        [ 93, 104, 124],\n",
       "        [ 95, 106, 126],\n",
       "        [ 96, 107, 127]],\n",
       "\n",
       "       ...,\n",
       "\n",
       "       [[  4,  11,  20],\n",
       "        [  9,  16,  25],\n",
       "        [ 13,  20,  29],\n",
       "        ...,\n",
       "        [ 83,  75,  76],\n",
       "        [ 81,  73,  74],\n",
       "        [ 83,  75,  76]],\n",
       "\n",
       "       [[  6,  12,  19],\n",
       "        [  7,  13,  20],\n",
       "        [  8,  14,  21],\n",
       "        ...,\n",
       "        [ 85,  77,  78],\n",
       "        [ 84,  76,  77],\n",
       "        [ 88,  80,  81]],\n",
       "\n",
       "       [[ 19,  25,  30],\n",
       "        [ 15,  21,  26],\n",
       "        [  7,  13,  18],\n",
       "        ...,\n",
       "        [ 91,  83,  84],\n",
       "        [ 91,  83,  84],\n",
       "        [ 96,  88,  89]]], dtype=uint8)"
      ]
     },
     "execution_count": 5,
     "metadata": {},
     "output_type": "execute_result"
    }
   ],
   "source": [
    "cv2.rectangle(img,pt1=(x,y),pt2=(x+width,y+height),color=(255,0,0),thickness=3)"
   ]
  },
  {
   "cell_type": "code",
   "execution_count": 6,
   "id": "eae19eb7",
   "metadata": {},
   "outputs": [
    {
     "data": {
      "text/plain": [
       "-1"
      ]
     },
     "execution_count": 6,
     "metadata": {},
     "output_type": "execute_result"
    }
   ],
   "source": [
    "cv2.imshow(\"window\",img)\n",
    "\n",
    "cv2.waitKey(0)"
   ]
  },
  {
   "cell_type": "markdown",
   "id": "ff58b610",
   "metadata": {},
   "source": [
    "### Detecting facial Landmarks-left eye ,right-eye,nose,left-lip-corner,right-lip-corner"
   ]
  },
  {
   "cell_type": "code",
   "execution_count": 7,
   "id": "a9554c3b",
   "metadata": {},
   "outputs": [],
   "source": [
    "left_eyeX,left_eyeY=output[0]['keypoints']['left_eye']\n",
    "right_eyeX,right_eyeY=output[0]['keypoints']['right_eye']\n",
    "noseX,noseY=output[0]['keypoints']['nose']\n",
    "mouth_rightX,mouth_rightY=output[0]['keypoints']['mouth_right']\n",
    "mouth_leftX,mouth_leftY=output[0]['keypoints']['mouth_left']"
   ]
  },
  {
   "cell_type": "code",
   "execution_count": 8,
   "id": "75d88c98",
   "metadata": {},
   "outputs": [
    {
     "data": {
      "text/plain": [
       "array([[[ 40,  52,  70],\n",
       "        [ 39,  51,  69],\n",
       "        [ 39,  51,  69],\n",
       "        ...,\n",
       "        [ 95, 106, 126],\n",
       "        [ 96, 107, 127],\n",
       "        [ 98, 109, 129]],\n",
       "\n",
       "       [[ 39,  51,  69],\n",
       "        [ 39,  51,  69],\n",
       "        [ 39,  51,  69],\n",
       "        ...,\n",
       "        [ 94, 105, 125],\n",
       "        [ 96, 107, 127],\n",
       "        [ 97, 108, 128]],\n",
       "\n",
       "       [[ 39,  50,  70],\n",
       "        [ 38,  49,  69],\n",
       "        [ 38,  49,  69],\n",
       "        ...,\n",
       "        [ 93, 104, 124],\n",
       "        [ 95, 106, 126],\n",
       "        [ 96, 107, 127]],\n",
       "\n",
       "       ...,\n",
       "\n",
       "       [[  4,  11,  20],\n",
       "        [  9,  16,  25],\n",
       "        [ 13,  20,  29],\n",
       "        ...,\n",
       "        [ 83,  75,  76],\n",
       "        [ 81,  73,  74],\n",
       "        [ 83,  75,  76]],\n",
       "\n",
       "       [[  6,  12,  19],\n",
       "        [  7,  13,  20],\n",
       "        [  8,  14,  21],\n",
       "        ...,\n",
       "        [ 85,  77,  78],\n",
       "        [ 84,  76,  77],\n",
       "        [ 88,  80,  81]],\n",
       "\n",
       "       [[ 19,  25,  30],\n",
       "        [ 15,  21,  26],\n",
       "        [  7,  13,  18],\n",
       "        ...,\n",
       "        [ 91,  83,  84],\n",
       "        [ 91,  83,  84],\n",
       "        [ 96,  88,  89]]], dtype=uint8)"
      ]
     },
     "execution_count": 8,
     "metadata": {},
     "output_type": "execute_result"
    }
   ],
   "source": [
    "cv2.circle(img,center=(left_eyeX,left_eyeY),color=(255,0,0),thickness=1,radius=5)\n",
    "cv2.circle(img,center=(right_eyeX,right_eyeY),color=(255,0,0),thickness=1,radius=5)\n",
    "cv2.circle(img,center=(noseX,noseY),color=(255,0,0),thickness=1,radius=5)\n",
    "cv2.circle(img,center=(mouth_rightX,mouth_rightY),color=(255,0,0),thickness=1,radius=5)\n",
    "cv2.circle(img,center=(mouth_leftX,mouth_leftY),color=(255,0,0),thickness=1,radius=5)"
   ]
  },
  {
   "cell_type": "code",
   "execution_count": 9,
   "id": "bfeaf944",
   "metadata": {},
   "outputs": [
    {
     "data": {
      "text/plain": [
       "-1"
      ]
     },
     "execution_count": 9,
     "metadata": {},
     "output_type": "execute_result"
    }
   ],
   "source": [
    "cv2.imshow(\"window\",img)\n",
    "cv2.waitKey(0)"
   ]
  },
  {
   "cell_type": "markdown",
   "id": "7435a371",
   "metadata": {},
   "source": [
    "## multiple image detecation"
   ]
  },
  {
   "cell_type": "code",
   "execution_count": 10,
   "id": "5bf6b29d",
   "metadata": {},
   "outputs": [
    {
     "name": "stdout",
     "output_type": "stream",
     "text": [
      "1/1 [==============================] - 0s 140ms/step\n",
      "WARNING:tensorflow:5 out of the last 12 calls to <function Model.make_predict_function.<locals>.predict_function at 0x0000015C5A01FD80> triggered tf.function retracing. Tracing is expensive and the excessive number of tracings could be due to (1) creating @tf.function repeatedly in a loop, (2) passing tensors with different shapes, (3) passing Python objects instead of tensors. For (1), please define your @tf.function outside of the loop. For (2), @tf.function has reduce_retracing=True option that can avoid unnecessary retracing. For (3), please refer to https://www.tensorflow.org/guide/function#controlling_retracing and https://www.tensorflow.org/api_docs/python/tf/function for  more details.\n",
      "1/1 [==============================] - 0s 138ms/step\n",
      "1/1 [==============================] - 0s 34ms/step\n",
      "1/1 [==============================] - 0s 29ms/step\n",
      "1/1 [==============================] - 0s 25ms/step\n",
      "1/1 [==============================] - 0s 27ms/step\n",
      "1/1 [==============================] - 0s 36ms/step\n",
      "1/1 [==============================] - 0s 26ms/step\n",
      "1/1 [==============================] - 0s 33ms/step\n",
      "1/1 [==============================] - 0s 33ms/step\n",
      "7/7 [==============================] - 0s 9ms/step\n",
      "2/2 [==============================] - 0s 41ms/step\n",
      "[{'box': [200, 57, 68, 86], 'confidence': 0.9999957084655762, 'keypoints': {'left_eye': (221, 91), 'right_eye': (254, 90), 'nose': (239, 106), 'mouth_left': (225, 123), 'mouth_right': (252, 123)}}, {'box': [559, 23, 58, 77], 'confidence': 0.9999938011169434, 'keypoints': {'left_eye': (578, 46), 'right_eye': (605, 54), 'nose': (589, 63), 'mouth_left': (573, 75), 'mouth_right': (594, 81)}}, {'box': [51, 29, 63, 81], 'confidence': 0.999980092048645, 'keypoints': {'left_eye': (74, 63), 'right_eye': (103, 57), 'nose': (99, 74), 'mouth_left': (83, 93), 'mouth_right': (106, 88)}}, {'box': [548, 362, 53, 68], 'confidence': 0.9999674558639526, 'keypoints': {'left_eye': (563, 389), 'right_eye': (587, 386), 'nose': (576, 403), 'mouth_left': (567, 415), 'mouth_right': (587, 414)}}, {'box': [385, 196, 60, 79], 'confidence': 0.9997656941413879, 'keypoints': {'left_eye': (403, 223), 'right_eye': (432, 225), 'nose': (418, 240), 'mouth_left': (403, 254), 'mouth_right': (428, 256)}}, {'box': [217, 192, 69, 92], 'confidence': 0.9997064471244812, 'keypoints': {'left_eye': (235, 228), 'right_eye': (267, 229), 'nose': (250, 245), 'mouth_left': (238, 262), 'mouth_right': (263, 262)}}, {'box': [64, 191, 53, 73], 'confidence': 0.9994316697120667, 'keypoints': {'left_eye': (89, 218), 'right_eye': (111, 223), 'nose': (104, 237), 'mouth_left': (82, 241), 'mouth_right': (103, 246)}}, {'box': [376, 363, 61, 81], 'confidence': 0.9993269443511963, 'keypoints': {'left_eye': (392, 396), 'right_eye': (421, 399), 'nose': (403, 416), 'mouth_left': (392, 426), 'mouth_right': (416, 429)}}, {'box': [56, 365, 59, 76], 'confidence': 0.9992316961288452, 'keypoints': {'left_eye': (74, 396), 'right_eye': (102, 397), 'nose': (90, 414), 'mouth_left': (75, 422), 'mouth_right': (99, 423)}}, {'box': [209, 370, 72, 96], 'confidence': 0.9986873269081116, 'keypoints': {'left_eye': (235, 405), 'right_eye': (269, 408), 'nose': (253, 426), 'mouth_left': (233, 438), 'mouth_right': (263, 442)}}, {'box': [538, 193, 61, 79], 'confidence': 0.9971766471862793, 'keypoints': {'left_eye': (553, 225), 'right_eye': (582, 221), 'nose': (567, 237), 'mouth_left': (557, 253), 'mouth_right': (585, 251)}}, {'box': [375, 33, 68, 92], 'confidence': 0.9966226816177368, 'keypoints': {'left_eye': (394, 69), 'right_eye': (427, 69), 'nose': (411, 92), 'mouth_left': (395, 104), 'mouth_right': (425, 103)}}]\n"
     ]
    }
   ],
   "source": [
    "import tensorflow as tf\n",
    "\n",
    "from mtcnn import MTCNN\n",
    "import cv2\n",
    "\n",
    "\n",
    "\n",
    "detector=MTCNN()\n",
    "\n",
    "img=cv2.imread('images/multi-image.jpg')\n",
    "\n",
    "output=detector.detect_faces(img)\n",
    "print(output)"
   ]
  },
  {
   "cell_type": "code",
   "execution_count": 13,
   "id": "abe3e46a",
   "metadata": {},
   "outputs": [],
   "source": [
    "for i in output:\n",
    "    x,y,width,height=i['box']\n",
    "    cv2.rectangle(img,pt1=(x,y),pt2=(x+width,y+height),color=(255,0,0),thickness=3)\n",
    "    left_eyeX,left_eyeY=i['keypoints']['left_eye']\n",
    "    right_eyeX,right_eyeY=i['keypoints']['right_eye']\n",
    "    noseX,noseY=i['keypoints']['nose']\n",
    "    mouth_rightX,mouth_rightY=i['keypoints']['mouth_right']\n",
    "    mouth_leftX,mouth_leftY=i['keypoints']['mouth_left']\n",
    "    cv2.circle(img,center=(left_eyeX,left_eyeY),color=(255,0,0),thickness=1,radius=5)\n",
    "    cv2.circle(img,center=(right_eyeX,right_eyeY),color=(255,0,0),thickness=1,radius=5)\n",
    "    cv2.circle(img,center=(noseX,noseY),color=(255,0,0),thickness=1,radius=5)\n",
    "    cv2.circle(img,center=(mouth_rightX,mouth_rightY),color=(255,0,0),thickness=1,radius=5)\n",
    "    cv2.circle(img,center=(mouth_leftX,mouth_leftY),color=(255,0,0),thickness=1,radius=5)\n",
    "   \n"
   ]
  },
  {
   "cell_type": "code",
   "execution_count": 14,
   "id": "483fd0be",
   "metadata": {},
   "outputs": [
    {
     "data": {
      "text/plain": [
       "-1"
      ]
     },
     "execution_count": 14,
     "metadata": {},
     "output_type": "execute_result"
    }
   ],
   "source": [
    "cv2.imshow(\"window\",img)\n",
    "cv2.waitKey(0)"
   ]
  },
  {
   "cell_type": "code",
   "execution_count": null,
   "id": "5102c17f",
   "metadata": {},
   "outputs": [],
   "source": []
  }
 ],
 "metadata": {
  "kernelspec": {
   "display_name": "Python 3 (ipykernel)",
   "language": "python",
   "name": "python3"
  },
  "language_info": {
   "codemirror_mode": {
    "name": "ipython",
    "version": 3
   },
   "file_extension": ".py",
   "mimetype": "text/x-python",
   "name": "python",
   "nbconvert_exporter": "python",
   "pygments_lexer": "ipython3",
   "version": "3.11.3"
  }
 },
 "nbformat": 4,
 "nbformat_minor": 5
}
