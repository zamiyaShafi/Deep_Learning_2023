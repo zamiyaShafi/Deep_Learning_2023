{
 "cells": [
  {
   "cell_type": "code",
   "execution_count": null,
   "id": "fee090cd",
   "metadata": {},
   "outputs": [],
   "source": [
    "pip install tensorflow\n"
   ]
  },
  {
   "cell_type": "code",
   "execution_count": null,
   "id": "51c1ce94",
   "metadata": {},
   "outputs": [],
   "source": [
    "import tensorflow as tf\n",
    "from tensorflow.keras import models,layers\n",
    "import matplotlib.pyplot as plt"
   ]
  },
  {
   "cell_type": "code",
   "execution_count": null,
   "id": "01b561b3",
   "metadata": {},
   "outputs": [],
   "source": [
    "IMAGE_SIZE=256\n",
    "BATCH_SIZE=32\n",
    "CHANNEL=3\n",
    "EPOCHS=50\n"
   ]
  },
  {
   "cell_type": "code",
   "execution_count": null,
   "id": "61463ea4",
   "metadata": {},
   "outputs": [],
   "source": [
    "# creating pipeline for reading images ,,,so that you can read it by batches \n",
    "dataset=tf.keras.preprocessing.image_dataset_from_directory(\n",
    "    \"PlantVillage\",\n",
    "    shuffle=True,\n",
    "    image_size=(IMAGE_SIZE,IMAGE_SIZE),\n",
    "    batch_size=BATCH_SIZE\n",
    "    \n",
    ")"
   ]
  },
  {
   "cell_type": "code",
   "execution_count": null,
   "id": "4d9d0ac6",
   "metadata": {},
   "outputs": [],
   "source": [
    "dir(dataset)"
   ]
  },
  {
   "cell_type": "code",
   "execution_count": null,
   "id": "b6918618",
   "metadata": {},
   "outputs": [],
   "source": [
    "class_names=dataset.class_names"
   ]
  },
  {
   "cell_type": "code",
   "execution_count": null,
   "id": "1dd100bc",
   "metadata": {},
   "outputs": [],
   "source": [
    "len(dataset)"
   ]
  },
  {
   "cell_type": "code",
   "execution_count": null,
   "id": "703f4503",
   "metadata": {},
   "outputs": [],
   "source": [
    "68*32   # so it will have more at the last batch"
   ]
  },
  {
   "cell_type": "markdown",
   "id": "3817bc3c",
   "metadata": {},
   "source": [
    "# Inspection on dataset"
   ]
  },
  {
   "cell_type": "code",
   "execution_count": null,
   "id": "ae9648d9",
   "metadata": {},
   "outputs": [],
   "source": [
    "for image_batch, label_batch in dataset.take(1):\n",
    "    print(len(image_batch))   # each batch will be having 32 images\n",
    "    print(image_batch.shape)  # shape of batch\n",
    "    print(label_batch.numpy())  #target label for all 32 \n",
    "    print(image_batch[0])    # it is a tensor\n",
    "    print(image_batch[0].numpy()) # converted to numpy\n",
    "    print(image_batch[0].shape)  #shape of each image\n",
    "    plt.figure(figsize=(10,10))\n",
    "    for i in range(12):\n",
    "        ax=plt.subplot(4,3,i+1)  #we have created subplot so that all images can be seen\n",
    "        plt.title(class_names[label_batch[i]])\n",
    "        plt.imshow(image_batch[i].numpy().astype('uint8'))  #you have to use uint8 cz it waas float \n",
    "        plt.axis(\"off\")\n",
    "    \n",
    "    "
   ]
  },
  {
   "cell_type": "code",
   "execution_count": null,
   "id": "16f1aae7",
   "metadata": {},
   "outputs": [],
   "source": [
    "# 80%==>training \n",
    "# 20%==>10% evaluation,10% test\n"
   ]
  },
  {
   "cell_type": "code",
   "execution_count": null,
   "id": "e6935d67",
   "metadata": {},
   "outputs": [],
   "source": [
    "train_size=0.8\n",
    "len(dataset)*0.8\n",
    "\n",
    "# so 54 batch we will keep for training"
   ]
  },
  {
   "cell_type": "code",
   "execution_count": null,
   "id": "30400076",
   "metadata": {},
   "outputs": [],
   "source": [
    "train_ds=dataset.take(54)\n",
    "len(train_ds)"
   ]
  },
  {
   "cell_type": "code",
   "execution_count": null,
   "id": "cd5bd3d3",
   "metadata": {},
   "outputs": [],
   "source": [
    "\n",
    "test_ds=dataset.skip(54)\n",
    "len(test_ds)\n",
    "\n"
   ]
  },
  {
   "cell_type": "code",
   "execution_count": null,
   "id": "5c5e0957",
   "metadata": {},
   "outputs": [],
   "source": [
    "val_size=0.1\n",
    "len(dataset)*val_size"
   ]
  },
  {
   "cell_type": "code",
   "execution_count": null,
   "id": "5264d55b",
   "metadata": {},
   "outputs": [],
   "source": [
    "val_ds=test_ds.take(6)"
   ]
  },
  {
   "cell_type": "code",
   "execution_count": null,
   "id": "af420a3c",
   "metadata": {},
   "outputs": [],
   "source": [
    "len(val_ds)"
   ]
  },
  {
   "cell_type": "code",
   "execution_count": null,
   "id": "9553aaab",
   "metadata": {},
   "outputs": [],
   "source": [
    "test_ds=test_ds.skip(6)\n",
    "len(test_ds)"
   ]
  },
  {
   "cell_type": "code",
   "execution_count": null,
   "id": "e775fcb3",
   "metadata": {},
   "outputs": [],
   "source": [
    "# we will do the above splitting inside a function\n",
    "\n",
    "def get_dataset_partitions_tf(ds,train_split=0.8,val_split=0.1,test_split=0.1,shuffle=True,shuffle_size=10000):\n",
    "    ds_size=len(ds)\n",
    "    if shuffle:\n",
    "        ds=ds.shuffle(shuffle_size,seed=12)\n",
    "    train_size=int(ds_size*train_split)\n",
    "    val_size=int(ds_size*val_split)\n",
    "    test_size=int(ds_size*test_split)\n",
    "    train_ds=ds.take(train_size)\n",
    "    val_ds=ds.skip(train_size).take(val_size)\n",
    "    test_size=ds.skip(train_size).skip(val_size)\n",
    "    return train_ds,val_ds,test_ds"
   ]
  },
  {
   "cell_type": "code",
   "execution_count": null,
   "id": "11b65fa5",
   "metadata": {},
   "outputs": [],
   "source": [
    "train_ds,val_ds,test_ds=get_dataset_partitions_tf(dataset)"
   ]
  },
  {
   "cell_type": "code",
   "execution_count": null,
   "id": "5b07676d",
   "metadata": {},
   "outputs": [],
   "source": [
    "len(train_ds)"
   ]
  },
  {
   "cell_type": "code",
   "execution_count": null,
   "id": "a9bd81ad",
   "metadata": {},
   "outputs": [],
   "source": [
    "len(val_ds)"
   ]
  },
  {
   "cell_type": "code",
   "execution_count": null,
   "id": "78477c98",
   "metadata": {},
   "outputs": [],
   "source": [
    "len(test_ds)"
   ]
  },
  {
   "cell_type": "code",
   "execution_count": null,
   "id": "d43f8566",
   "metadata": {},
   "outputs": [],
   "source": [
    "# this will keep the batches in cache memeory...so that you dont need to load again and again\n",
    "train_ds=train_ds.cache().shuffle(1000).prefetch(buffer_size=tf.data.AUTOTUNE)\n",
    "val_ds=val_ds.cache().shuffle(1000).prefetch(buffer_size=tf.data.AUTOTUNE)\n",
    "test_ds=test_ds.cache().shuffle(1000).prefetch(buffer_size=tf.data.AUTOTUNE)"
   ]
  },
  {
   "cell_type": "code",
   "execution_count": null,
   "id": "66998047",
   "metadata": {},
   "outputs": [],
   "source": [
    "# will do the preprocessing \n",
    "\n",
    "resize_and_rescale=tf.keras.Sequential([\n",
    "    layers.experimental.preprocessing.Resizing(IMAGE_SIZE,IMAGE_SIZE),\n",
    "    layers.experimental.preprocessing.Rescaling(1.0/255)\n",
    "    \n",
    "])"
   ]
  },
  {
   "cell_type": "code",
   "execution_count": null,
   "id": "9ae6d7bf",
   "metadata": {},
   "outputs": [],
   "source": [
    "data_augmentation=tf.keras.Sequential([\n",
    "    layers.experimental.preprocessing.RandomFlip(\"horizontal_and_vertical\"),\n",
    "    layers.experimental.preprocessing.RandomRotation(0.2),\n",
    "])"
   ]
  },
  {
   "cell_type": "code",
   "execution_count": null,
   "id": "d606ed72",
   "metadata": {},
   "outputs": [],
   "source": [
    "input_shape=(BATCH_SIZE,IMAGE_SIZE,IMAGE_SIZE,CHANNEL)\n",
    "n_classes=3\n",
    "model=models.Sequential([\n",
    "    resize_and_rescale,\n",
    "    data_augmentation,\n",
    "    layers.Conv2D(32,(3,3),activation='relu',input_shape=input_shape),\n",
    "    layers.MaxPooling2D(pool_size=(2, 2)),\n",
    "     layers.Conv2D(64,(3,3),activation='relu',),\n",
    "    layers.MaxPooling2D(pool_size=(2, 2)),\n",
    "     layers.Conv2D(64,(3,3),activation='relu',),\n",
    "    layers.MaxPooling2D(pool_size=(2, 2)),\n",
    "    layers.Conv2D(64,(3,3),activation='relu'),\n",
    "    layers.MaxPooling2D((2,2)),\n",
    "    layers.Conv2D(64,(3,3),activation='relu'),\n",
    "    layers.MaxPooling2D((2,2)),\n",
    "    layers.Conv2D(64,(3,3),activation='relu'),\n",
    "    layers.MaxPooling2D((2,2)),\n",
    "    layers.Flatten(),\n",
    "    layers.Dense(64,activation='relu'),\n",
    "    layers.Dense(n_classes,activation='softmax'),\n",
    "    \n",
    "])\n",
    "model.build(input_shape)"
   ]
  },
  {
   "cell_type": "code",
   "execution_count": null,
   "id": "ad5702b7",
   "metadata": {},
   "outputs": [],
   "source": [
    "model.summary()"
   ]
  },
  {
   "cell_type": "code",
   "execution_count": null,
   "id": "d2ac178d",
   "metadata": {},
   "outputs": [],
   "source": [
    "model.compile(optimizer='adam',\n",
    "             loss=tf.keras.losses.SparseCategoricalCrossentropy(from_logits=False),\n",
    "             metrics=['accuracy'])"
   ]
  },
  {
   "cell_type": "code",
   "execution_count": null,
   "id": "cc8d8e35",
   "metadata": {},
   "outputs": [],
   "source": [
    "history=model.fit(\n",
    "          train_ds,\n",
    "        epochs=EPOCHS,\n",
    "    batch_size=BATCH_SIZE,\n",
    "    validation_data=val_ds,\n",
    "    verbose=1,\n",
    "          )"
   ]
  },
  {
   "cell_type": "code",
   "execution_count": null,
   "id": "bc618b0a",
   "metadata": {},
   "outputs": [],
   "source": [
    "scores=model.evaluate(test_ds)"
   ]
  },
  {
   "cell_type": "code",
   "execution_count": null,
   "id": "959a84a0",
   "metadata": {},
   "outputs": [],
   "source": [
    "history\n"
   ]
  },
  {
   "cell_type": "code",
   "execution_count": null,
   "id": "39c49e00",
   "metadata": {},
   "outputs": [],
   "source": [
    "# you can see the documentation of keras.src.callbacks\n",
    "history.params"
   ]
  },
  {
   "cell_type": "code",
   "execution_count": null,
   "id": "6b68b698",
   "metadata": {},
   "outputs": [],
   "source": [
    "history.history.keys()"
   ]
  },
  {
   "cell_type": "code",
   "execution_count": null,
   "id": "0c191c1e",
   "metadata": {},
   "outputs": [],
   "source": [
    "history.history['accuracy']"
   ]
  },
  {
   "cell_type": "code",
   "execution_count": null,
   "id": "9fc55118",
   "metadata": {},
   "outputs": [],
   "source": [
    "len(history.history['accuracy'])"
   ]
  },
  {
   "cell_type": "code",
   "execution_count": null,
   "id": "6af76045",
   "metadata": {},
   "outputs": [],
   "source": [
    "# will do the visualization\n",
    "acc=history.history['accuracy']\n",
    "val_acc=history.history['val_accuracy']\n",
    "loss=history.history['loss']\n",
    "val_loss=history.history['val_accuracy']"
   ]
  },
  {
   "cell_type": "code",
   "execution_count": null,
   "id": "69d33bc9",
   "metadata": {},
   "outputs": [],
   "source": [
    "plt.figure(figsize=(8,8))\n",
    "plt.subplot(1,2,1)\n",
    "plt.plot(range(EPOCHS),acc,label=\"Training Accuracy\")\n",
    "plt.plot(range(EPOCHS),val_acc,label=\"validation Accuracy\")\n",
    "plt.legend(loc=\"lower right\")\n",
    "plt.title(\"Training and validation Accuarcy\")\n",
    "\n",
    "\n",
    "plt.subplot(1,2,2)\n",
    "plt.plot(range(EPOCHS),loss,label=\"Training Loss\")\n",
    "plt.plot(range(EPOCHS),val_loss,label=\"Validation Loss\")\n",
    "plt.legend(loc=\"upper right\")\n",
    "plt.title(\"Training and Validation Loss\")\n",
    "plt.show()\n"
   ]
  },
  {
   "cell_type": "code",
   "execution_count": null,
   "id": "15d4dcce",
   "metadata": {},
   "outputs": [],
   "source": [
    "# testing\n",
    "for images_batch,labels_batch in test_ds.take(1):\n",
    "    print(images_batch[0].numpy())  #prints value\n",
    "    \n",
    "    first_image=plt.matshow(images_batch[0].numpy().astype('uint8'))\n",
    "    first_label=\n",
    "    "
   ]
  },
  {
   "cell_type": "code",
   "execution_count": null,
   "id": "7afb5766",
   "metadata": {},
   "outputs": [],
   "source": []
  }
 ],
 "metadata": {
  "kernelspec": {
   "display_name": "Python 3 (ipykernel)",
   "language": "python",
   "name": "python3"
  },
  "language_info": {
   "codemirror_mode": {
    "name": "ipython",
    "version": 3
   },
   "file_extension": ".py",
   "mimetype": "text/x-python",
   "name": "python",
   "nbconvert_exporter": "python",
   "pygments_lexer": "ipython3",
   "version": "3.11.3"
  }
 },
 "nbformat": 4,
 "nbformat_minor": 5
}
